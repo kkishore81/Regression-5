{
 "cells": [
  {
   "cell_type": "code",
   "execution_count": 2,
   "id": "8c3a14e1-1cf1-41f2-ab3b-f028cd943071",
   "metadata": {},
   "outputs": [],
   "source": [
    "#Q1. What is Elastic Net Regression and how does it differ from other regression techniques?"
   ]
  },
  {
   "cell_type": "code",
   "execution_count": null,
   "id": "7a04d3a7-20ef-431f-a92b-9b9b70b69f13",
   "metadata": {},
   "outputs": [],
   "source": [
    "#Elastic Net Regression combines L1 (Lasso) and L2 (Ridge) regularization techniques, providing a balance between them.\n",
    "#It differs by offering a mix of both penalties, which helps with feature selection while handling multicollinearity."
   ]
  },
  {
   "cell_type": "code",
   "execution_count": null,
   "id": "9f406c49-d150-43b5-8538-ecbd78bf0f31",
   "metadata": {},
   "outputs": [],
   "source": [
    "#Q2. How do you choose the optimal values of the regularization parameters for Elastic Net Regression?"
   ]
  },
  {
   "cell_type": "code",
   "execution_count": null,
   "id": "6f0860f7-0efa-4bd9-a9c6-06e523b43ffa",
   "metadata": {},
   "outputs": [],
   "source": [
    "#Optimal values of the regularization parameters (alpha and lambda) for Elastic Net Regression are typically chosen through cross-validation, testing different combinations to minimize prediction error."
   ]
  },
  {
   "cell_type": "code",
   "execution_count": null,
   "id": "d8716901-4050-42f2-a3f8-0c0067eeb63f",
   "metadata": {},
   "outputs": [],
   "source": [
    "#Q3. What are the advantages and disadvantages of Elastic Net Regression?"
   ]
  },
  {
   "cell_type": "code",
   "execution_count": null,
   "id": "35eccc52-0c27-456b-ba40-ef346f01231b",
   "metadata": {},
   "outputs": [],
   "source": [
    "# Advantages of Elastic Net: Handles multicollinearity, feature selection, robust to outliers. Disadvantages: Requires tuning of alpha and lambda, might not perform well with small datasets."
   ]
  },
  {
   "cell_type": "code",
   "execution_count": null,
   "id": "1fcb619c-0f36-495a-94d3-17a9def5fabd",
   "metadata": {},
   "outputs": [],
   "source": [
    "#Q4. What are some common use cases for Elastic Net Regression?"
   ]
  },
  {
   "cell_type": "code",
   "execution_count": null,
   "id": "5c9a4c30-a662-4e58-a7e9-4d97f47e0a55",
   "metadata": {},
   "outputs": [],
   "source": [
    "#Common use cases for Elastic Net Regression include high-dimensional datasets, where feature selection and regularization are crucial, and when dealing with multicollinearity."
   ]
  },
  {
   "cell_type": "code",
   "execution_count": null,
   "id": "18bdaf82-89b0-4b05-8af0-00be7dfdeea9",
   "metadata": {},
   "outputs": [],
   "source": [
    "#Q5. How do you interpret the coefficients in Elastic Net Regression?"
   ]
  },
  {
   "cell_type": "code",
   "execution_count": null,
   "id": "878bda46-8a83-4283-9b5b-b7c3cbe997b0",
   "metadata": {},
   "outputs": [],
   "source": [
    "# Coefficient interpretation in Elastic Net is similar to linear regression. \n",
    "#Larger absolute coefficients have a stronger impact, and their sign indicates the direction of the relationship with the target variable."
   ]
  },
  {
   "cell_type": "code",
   "execution_count": null,
   "id": "dced3717-6182-4edc-a38f-bb55544e9325",
   "metadata": {},
   "outputs": [],
   "source": [
    "#Q6. How do you handle missing values when using Elastic Net Regression?"
   ]
  },
  {
   "cell_type": "code",
   "execution_count": null,
   "id": "6f27177d-6d9c-476b-af49-df5af98c5620",
   "metadata": {},
   "outputs": [],
   "source": [
    "# To handle missing values with Elastic Net Regression, you can impute them (e.g., with mean or median values) or use techniques like MICE (Multiple Imputation by Chained Equations) before training the model."
   ]
  },
  {
   "cell_type": "code",
   "execution_count": null,
   "id": "7e346488-e212-40ec-a153-3d9808386cb5",
   "metadata": {},
   "outputs": [],
   "source": [
    "#Q7. How do you use Elastic Net Regression for feature selection?"
   ]
  },
  {
   "cell_type": "code",
   "execution_count": null,
   "id": "33141921-d5de-4ab4-a86b-4e08b5275278",
   "metadata": {},
   "outputs": [],
   "source": [
    "# Elastic Net can be used for feature selection by examining the magnitudes of the learned coefficients. Features with non-zero coefficients are selected as important."
   ]
  },
  {
   "cell_type": "code",
   "execution_count": null,
   "id": "d2649dbf-50e2-4a9d-bef4-8dbe846f21c7",
   "metadata": {},
   "outputs": [],
   "source": [
    "#Q8. How do you pickle and unpickle a trained Elastic Net Regression model in Python?"
   ]
  },
  {
   "cell_type": "code",
   "execution_count": 4,
   "id": "28e9cde7-d08a-4ed7-95ba-29d8809f4e36",
   "metadata": {},
   "outputs": [],
   "source": [
    "# To pickle and unpickle a trained Elastic Net Regression model in Python, you can use the 'pickle module'. Use 'pickle.dump(model, file)' to save and 'pickle.load(file)' to load the model."
   ]
  },
  {
   "cell_type": "code",
   "execution_count": 3,
   "id": "57028073-b124-4661-925d-36bf5f52aae1",
   "metadata": {},
   "outputs": [],
   "source": [
    "#Q9. What is the purpose of pickling a model in machine learning?"
   ]
  },
  {
   "cell_type": "code",
   "execution_count": null,
   "id": "59b1f22e-b554-478a-9d9d-dd97576731ad",
   "metadata": {},
   "outputs": [],
   "source": [
    "# The purpose of pickling a model in machine learning is to save the trained model's state so it can be reused later for predictions without retraining. \n",
    "#This is useful for deploying models in production and sharing them with others while preserving their learned parameters and settings."
   ]
  }
 ],
 "metadata": {
  "kernelspec": {
   "display_name": "Python 3 (ipykernel)",
   "language": "python",
   "name": "python3"
  },
  "language_info": {
   "codemirror_mode": {
    "name": "ipython",
    "version": 3
   },
   "file_extension": ".py",
   "mimetype": "text/x-python",
   "name": "python",
   "nbconvert_exporter": "python",
   "pygments_lexer": "ipython3",
   "version": "3.10.8"
  }
 },
 "nbformat": 4,
 "nbformat_minor": 5
}
